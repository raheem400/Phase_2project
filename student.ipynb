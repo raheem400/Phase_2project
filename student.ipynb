{
 "cells": [
  {
   "cell_type": "markdown",
   "metadata": {},
   "source": [
    "# Final Submission"
   ]
  },
  {
   "cell_type": "markdown",
   "metadata": {},
   "source": [
    "#### Student name : Rahim Njagi\n",
    "#### Student pace : 23rd to 29 th July\n",
    "#### Scheduled project review date/time:\n",
    "#### Instructor name: Antony Muiko\n",
    "#### Blog post URL :"
   ]
  },
  {
   "cell_type": "markdown",
   "metadata": {},
   "source": [
    "# Analysis of films performances at the box office."
   ]
  },
  {
   "cell_type": "markdown",
   "metadata": {},
   "source": [
    "## Business Understanding\n",
    "\n",
    "In this project, we are dealing with datasets related to films perfomances at the box office to provide insights into the types of films that are currently successful at the box office, enabling the company's new movie studio to make informed decisions on the types of films to produce.The analysis will help in identifying various factors that influence how well a movies perfoms in the box office i.e popular genre and return on investment. \n",
    "\n"
   ]
  },
  {
   "cell_type": "markdown",
   "metadata": {},
   "source": [
    "## Data Understanding\n",
    "\n",
    "### Datasets :\n",
    "\n",
    "1. ('tn.movie_budgets.csv')  - csv format\n",
    "2. ('IMDB') -  Database "
   ]
  },
  {
   "cell_type": "markdown",
   "metadata": {},
   "source": [
    "## Data Preperation \n",
    "\n",
    "We first start by loading our datasets."
   ]
  },
  {
   "cell_type": "code",
   "execution_count": 2,
   "metadata": {},
   "outputs": [],
   "source": [
    "import sqlite3\n",
    "import pandas as pd\n",
    "import matplotlib.pyplot as plt\n",
    "import seaborn as sns\n",
    "\n",
    "df_1 = pd.read_csv('tn.movie_budgets.csv')\n",
    "path = 'im.db'\n",
    "conn = sqlite3.connect(path)\n",
    "\n",
    "\n"
   ]
  },
  {
   "cell_type": "markdown",
   "metadata": {},
   "source": [
    "## Movie Budgets Data"
   ]
  },
  {
   "cell_type": "code",
   "execution_count": 3,
   "metadata": {
    "scrolled": true
   },
   "outputs": [
    {
     "data": {
      "text/html": [
       "<div>\n",
       "<style scoped>\n",
       "    .dataframe tbody tr th:only-of-type {\n",
       "        vertical-align: middle;\n",
       "    }\n",
       "\n",
       "    .dataframe tbody tr th {\n",
       "        vertical-align: top;\n",
       "    }\n",
       "\n",
       "    .dataframe thead th {\n",
       "        text-align: right;\n",
       "    }\n",
       "</style>\n",
       "<table border=\"1\" class=\"dataframe\">\n",
       "  <thead>\n",
       "    <tr style=\"text-align: right;\">\n",
       "      <th></th>\n",
       "      <th>id</th>\n",
       "      <th>release_date</th>\n",
       "      <th>movie</th>\n",
       "      <th>production_budget</th>\n",
       "      <th>domestic_gross</th>\n",
       "      <th>worldwide_gross</th>\n",
       "    </tr>\n",
       "  </thead>\n",
       "  <tbody>\n",
       "    <tr>\n",
       "      <th>0</th>\n",
       "      <td>1</td>\n",
       "      <td>Dec 18, 2009</td>\n",
       "      <td>Avatar</td>\n",
       "      <td>$425,000,000</td>\n",
       "      <td>$760,507,625</td>\n",
       "      <td>$2,776,345,279</td>\n",
       "    </tr>\n",
       "    <tr>\n",
       "      <th>1</th>\n",
       "      <td>2</td>\n",
       "      <td>May 20, 2011</td>\n",
       "      <td>Pirates of the Caribbean: On Stranger Tides</td>\n",
       "      <td>$410,600,000</td>\n",
       "      <td>$241,063,875</td>\n",
       "      <td>$1,045,663,875</td>\n",
       "    </tr>\n",
       "    <tr>\n",
       "      <th>2</th>\n",
       "      <td>3</td>\n",
       "      <td>Jun 7, 2019</td>\n",
       "      <td>Dark Phoenix</td>\n",
       "      <td>$350,000,000</td>\n",
       "      <td>$42,762,350</td>\n",
       "      <td>$149,762,350</td>\n",
       "    </tr>\n",
       "    <tr>\n",
       "      <th>3</th>\n",
       "      <td>4</td>\n",
       "      <td>May 1, 2015</td>\n",
       "      <td>Avengers: Age of Ultron</td>\n",
       "      <td>$330,600,000</td>\n",
       "      <td>$459,005,868</td>\n",
       "      <td>$1,403,013,963</td>\n",
       "    </tr>\n",
       "    <tr>\n",
       "      <th>4</th>\n",
       "      <td>5</td>\n",
       "      <td>Dec 15, 2017</td>\n",
       "      <td>Star Wars Ep. VIII: The Last Jedi</td>\n",
       "      <td>$317,000,000</td>\n",
       "      <td>$620,181,382</td>\n",
       "      <td>$1,316,721,747</td>\n",
       "    </tr>\n",
       "    <tr>\n",
       "      <th>...</th>\n",
       "      <td>...</td>\n",
       "      <td>...</td>\n",
       "      <td>...</td>\n",
       "      <td>...</td>\n",
       "      <td>...</td>\n",
       "      <td>...</td>\n",
       "    </tr>\n",
       "    <tr>\n",
       "      <th>5777</th>\n",
       "      <td>78</td>\n",
       "      <td>Dec 31, 2018</td>\n",
       "      <td>Red 11</td>\n",
       "      <td>$7,000</td>\n",
       "      <td>$0</td>\n",
       "      <td>$0</td>\n",
       "    </tr>\n",
       "    <tr>\n",
       "      <th>5778</th>\n",
       "      <td>79</td>\n",
       "      <td>Apr 2, 1999</td>\n",
       "      <td>Following</td>\n",
       "      <td>$6,000</td>\n",
       "      <td>$48,482</td>\n",
       "      <td>$240,495</td>\n",
       "    </tr>\n",
       "    <tr>\n",
       "      <th>5779</th>\n",
       "      <td>80</td>\n",
       "      <td>Jul 13, 2005</td>\n",
       "      <td>Return to the Land of Wonders</td>\n",
       "      <td>$5,000</td>\n",
       "      <td>$1,338</td>\n",
       "      <td>$1,338</td>\n",
       "    </tr>\n",
       "    <tr>\n",
       "      <th>5780</th>\n",
       "      <td>81</td>\n",
       "      <td>Sep 29, 2015</td>\n",
       "      <td>A Plague So Pleasant</td>\n",
       "      <td>$1,400</td>\n",
       "      <td>$0</td>\n",
       "      <td>$0</td>\n",
       "    </tr>\n",
       "    <tr>\n",
       "      <th>5781</th>\n",
       "      <td>82</td>\n",
       "      <td>Aug 5, 2005</td>\n",
       "      <td>My Date With Drew</td>\n",
       "      <td>$1,100</td>\n",
       "      <td>$181,041</td>\n",
       "      <td>$181,041</td>\n",
       "    </tr>\n",
       "  </tbody>\n",
       "</table>\n",
       "<p>5782 rows × 6 columns</p>\n",
       "</div>"
      ],
      "text/plain": [
       "      id  release_date                                        movie  \\\n",
       "0      1  Dec 18, 2009                                       Avatar   \n",
       "1      2  May 20, 2011  Pirates of the Caribbean: On Stranger Tides   \n",
       "2      3   Jun 7, 2019                                 Dark Phoenix   \n",
       "3      4   May 1, 2015                      Avengers: Age of Ultron   \n",
       "4      5  Dec 15, 2017            Star Wars Ep. VIII: The Last Jedi   \n",
       "...   ..           ...                                          ...   \n",
       "5777  78  Dec 31, 2018                                       Red 11   \n",
       "5778  79   Apr 2, 1999                                    Following   \n",
       "5779  80  Jul 13, 2005                Return to the Land of Wonders   \n",
       "5780  81  Sep 29, 2015                         A Plague So Pleasant   \n",
       "5781  82   Aug 5, 2005                            My Date With Drew   \n",
       "\n",
       "     production_budget domestic_gross worldwide_gross  \n",
       "0         $425,000,000   $760,507,625  $2,776,345,279  \n",
       "1         $410,600,000   $241,063,875  $1,045,663,875  \n",
       "2         $350,000,000    $42,762,350    $149,762,350  \n",
       "3         $330,600,000   $459,005,868  $1,403,013,963  \n",
       "4         $317,000,000   $620,181,382  $1,316,721,747  \n",
       "...                ...            ...             ...  \n",
       "5777            $7,000             $0              $0  \n",
       "5778            $6,000        $48,482        $240,495  \n",
       "5779            $5,000         $1,338          $1,338  \n",
       "5780            $1,400             $0              $0  \n",
       "5781            $1,100       $181,041        $181,041  \n",
       "\n",
       "[5782 rows x 6 columns]"
      ]
     },
     "execution_count": 3,
     "metadata": {},
     "output_type": "execute_result"
    }
   ],
   "source": [
    "#Loading the budgets dataset\n",
    "df_1 = pd.read_csv('tn.movie_budgets.csv')\n",
    "df_1"
   ]
  },
  {
   "cell_type": "code",
   "execution_count": 4,
   "metadata": {},
   "outputs": [
    {
     "data": {
      "text/plain": [
       "'\\nThe dataset contains 5782 rows and 6 columns\\n'"
      ]
     },
     "execution_count": 4,
     "metadata": {},
     "output_type": "execute_result"
    }
   ],
   "source": [
    "#Inspecting number of rows and columns in this dataset\n",
    "df_1.shape\n",
    "\n",
    "\"\"\"\n",
    "The dataset contains 5782 rows and 6 columns\n",
    "\"\"\""
   ]
  },
  {
   "cell_type": "code",
   "execution_count": 5,
   "metadata": {},
   "outputs": [
    {
     "name": "stdout",
     "output_type": "stream",
     "text": [
      "<class 'pandas.core.frame.DataFrame'>\n",
      "RangeIndex: 5782 entries, 0 to 5781\n",
      "Data columns (total 6 columns):\n",
      " #   Column             Non-Null Count  Dtype \n",
      "---  ------             --------------  ----- \n",
      " 0   id                 5782 non-null   int64 \n",
      " 1   release_date       5782 non-null   object\n",
      " 2   movie              5782 non-null   object\n",
      " 3   production_budget  5782 non-null   object\n",
      " 4   domestic_gross     5782 non-null   object\n",
      " 5   worldwide_gross    5782 non-null   object\n",
      "dtypes: int64(1), object(5)\n",
      "memory usage: 271.2+ KB\n"
     ]
    }
   ],
   "source": [
    "#Sumary of the DataFrame\n",
    "df_1.info()"
   ]
  },
  {
   "cell_type": "markdown",
   "metadata": {},
   "source": [
    "### Data Cleaning"
   ]
  },
  {
   "cell_type": "code",
   "execution_count": 6,
   "metadata": {},
   "outputs": [
    {
     "data": {
      "text/plain": [
       "id                   0\n",
       "release_date         0\n",
       "movie                0\n",
       "production_budget    0\n",
       "domestic_gross       0\n",
       "worldwide_gross      0\n",
       "dtype: int64"
      ]
     },
     "execution_count": 6,
     "metadata": {},
     "output_type": "execute_result"
    }
   ],
   "source": [
    "#Checking for missing values\n",
    "df_1.isna().sum()"
   ]
  },
  {
   "cell_type": "code",
   "execution_count": 7,
   "metadata": {},
   "outputs": [],
   "source": [
    "#Dropping duplicates \n",
    "df_1.drop_duplicates(inplace = True)"
   ]
  },
  {
   "cell_type": "code",
   "execution_count": 8,
   "metadata": {},
   "outputs": [],
   "source": [
    "#Removing non numeric signs\n",
    "df_1['production_budget'] = df_1['production_budget'].replace('[\\$,]','',regex=True)\n",
    "df_1['domestic_gross'] = df_1['domestic_gross'].replace('[\\$,]','',regex=True)\n",
    "df_1['worldwide_gross'] = df_1['worldwide_gross'].replace('[\\$,]','',regex=True)\n"
   ]
  },
  {
   "cell_type": "code",
   "execution_count": 9,
   "metadata": {},
   "outputs": [],
   "source": [
    "#Changing the numeric values to float datatype.\n",
    "df_1['production_budget'] = df_1['production_budget'].astype(float)\n",
    "df_1['domestic_gross'] = df_1['domestic_gross'].astype(float)\n",
    "df_1['worldwide_gross'] = df_1['worldwide_gross'].astype(float)\n"
   ]
  },
  {
   "cell_type": "code",
   "execution_count": 10,
   "metadata": {},
   "outputs": [],
   "source": [
    "#Removing records with zero in 'worldwide_gross' and 'domestic_gross'\n",
    "df_1 = df_1[(df_1['worldwide_gross'] != 0) & (df_1['domestic_gross'] != 0)]"
   ]
  },
  {
   "cell_type": "code",
   "execution_count": 11,
   "metadata": {},
   "outputs": [
    {
     "name": "stderr",
     "output_type": "stream",
     "text": [
      "/var/folders/pr/j40mx__d147dr4btk2kxr3j80000gp/T/ipykernel_7996/3575521698.py:2: SettingWithCopyWarning: \n",
      "A value is trying to be set on a copy of a slice from a DataFrame\n",
      "\n",
      "See the caveats in the documentation: https://pandas.pydata.org/pandas-docs/stable/user_guide/indexing.html#returning-a-view-versus-a-copy\n",
      "  df_1.rename(columns={'movie': 'movie_id'}, inplace=True)\n"
     ]
    }
   ],
   "source": [
    "# Rename the movie column\n",
    "df_1.rename(columns={'movie': 'movie_id'}, inplace=True)"
   ]
  },
  {
   "cell_type": "code",
   "execution_count": 12,
   "metadata": {},
   "outputs": [
    {
     "name": "stderr",
     "output_type": "stream",
     "text": [
      "/var/folders/pr/j40mx__d147dr4btk2kxr3j80000gp/T/ipykernel_7996/4072727822.py:2: SettingWithCopyWarning: \n",
      "A value is trying to be set on a copy of a slice from a DataFrame.\n",
      "Try using .loc[row_indexer,col_indexer] = value instead\n",
      "\n",
      "See the caveats in the documentation: https://pandas.pydata.org/pandas-docs/stable/user_guide/indexing.html#returning-a-view-versus-a-copy\n",
      "  df_1['ROI'] = (df_1['worldwide_gross'] + df_1['domestic_gross']) - (df_1['production_budget'])\n"
     ]
    }
   ],
   "source": [
    "#Creating a Return On Investment column 'ROI'\n",
    "df_1['ROI'] = (df_1['worldwide_gross'] + df_1['domestic_gross']) - (df_1['production_budget'])\n"
   ]
  },
  {
   "cell_type": "code",
   "execution_count": 13,
   "metadata": {},
   "outputs": [
    {
     "name": "stderr",
     "output_type": "stream",
     "text": [
      "/var/folders/pr/j40mx__d147dr4btk2kxr3j80000gp/T/ipykernel_7996/2977763333.py:2: SettingWithCopyWarning: \n",
      "A value is trying to be set on a copy of a slice from a DataFrame.\n",
      "Try using .loc[row_indexer,col_indexer] = value instead\n",
      "\n",
      "See the caveats in the documentation: https://pandas.pydata.org/pandas-docs/stable/user_guide/indexing.html#returning-a-view-versus-a-copy\n",
      "  df_1['release_date'] = pd.to_datetime(df_1['release_date'])\n",
      "/var/folders/pr/j40mx__d147dr4btk2kxr3j80000gp/T/ipykernel_7996/2977763333.py:4: SettingWithCopyWarning: \n",
      "A value is trying to be set on a copy of a slice from a DataFrame.\n",
      "Try using .loc[row_indexer,col_indexer] = value instead\n",
      "\n",
      "See the caveats in the documentation: https://pandas.pydata.org/pandas-docs/stable/user_guide/indexing.html#returning-a-view-versus-a-copy\n",
      "  df_1['release_month'] = df_1['release_date'].dt.month\n"
     ]
    }
   ],
   "source": [
    "#Changing the 'release_column' column to DateTime formart.\n",
    "df_1['release_date'] = pd.to_datetime(df_1['release_date'])\n",
    "#Extract month from 'release_date'\n",
    "df_1['release_month'] = df_1['release_date'].dt.month\n"
   ]
  },
  {
   "cell_type": "markdown",
   "metadata": {},
   "source": [
    "## Data Analysis"
   ]
  },
  {
   "cell_type": "markdown",
   "metadata": {},
   "source": [
    "### 1. Analysis of the months Return on Investment."
   ]
  },
  {
   "cell_type": "code",
   "execution_count": 14,
   "metadata": {},
   "outputs": [],
   "source": [
    "month_roi = df_1.groupby('release_month')['ROI'].mean().reset_index()\n",
    "month_roi = month_roi.sort_values(by='release_month')\n"
   ]
  },
  {
   "cell_type": "code",
   "execution_count": 15,
   "metadata": {},
   "outputs": [
    {
     "data": {
      "image/png": "[encoded data removed]",
      "text/plain": [
       "<Figure size 1400x800 with 1 Axes>"
      ]
     },
     "metadata": {},
     "output_type": "display_data"
    }
   ],
   "source": [
    "#Plotting the graph\n",
    "plt.figure(figsize=(14, 8))\n",
    "sns.pointplot(x='release_month', y='ROI', data=month_roi)\n",
    "plt.title('Average ROI by Release Month')\n",
    "plt.xlabel('Release Month')\n",
    "plt.ylabel('Average ROI')\n",
    "plt.xticks(range(12), ['Jan', 'Feb', 'Mar', 'Apr', 'May', 'Jun', 'Jul', 'Aug', 'Sep', 'Oct', 'Nov', 'Dec'])\n",
    "plt.show()"
   ]
  },
  {
   "cell_type": "markdown",
   "metadata": {},
   "source": [
    "## IMDB Data"
   ]
  },
  {
   "cell_type": "code",
   "execution_count": 16,
   "metadata": {},
   "outputs": [],
   "source": [
    "#Writing a Query to select specific columns from tables in imdb. \n",
    "query= \"\"\"\n",
    "SELECT *\n",
    "FROM movie_basics\n",
    "JOIN movie_ratings USING(movie_id)\n",
    "JOIN directors USING (movie_id)\n",
    "JOIN persons USING (person_id);\n",
    "\"\"\"\n",
    "imdb = pd.read_sql(query, conn)"
   ]
  },
  {
   "cell_type": "code",
   "execution_count": 17,
   "metadata": {},
   "outputs": [
    {
     "data": {
      "text/html": [
       "<div>\n",
       "<style scoped>\n",
       "    .dataframe tbody tr th:only-of-type {\n",
       "        vertical-align: middle;\n",
       "    }\n",
       "\n",
       "    .dataframe tbody tr th {\n",
       "        vertical-align: top;\n",
       "    }\n",
       "\n",
       "    .dataframe thead th {\n",
       "        text-align: right;\n",
       "    }\n",
       "</style>\n",
       "<table border=\"1\" class=\"dataframe\">\n",
       "  <thead>\n",
       "    <tr style=\"text-align: right;\">\n",
       "      <th></th>\n",
       "      <th>movie_id</th>\n",
       "      <th>primary_title</th>\n",
       "      <th>original_title</th>\n",
       "      <th>start_year</th>\n",
       "      <th>runtime_minutes</th>\n",
       "      <th>genres</th>\n",
       "      <th>averagerating</th>\n",
       "      <th>numvotes</th>\n",
       "      <th>person_id</th>\n",
       "      <th>primary_name</th>\n",
       "      <th>birth_year</th>\n",
       "      <th>death_year</th>\n",
       "      <th>primary_profession</th>\n",
       "    </tr>\n",
       "  </thead>\n",
       "  <tbody>\n",
       "    <tr>\n",
       "      <th>0</th>\n",
       "      <td>tt0063540</td>\n",
       "      <td>Sunghursh</td>\n",
       "      <td>Sunghursh</td>\n",
       "      <td>2013</td>\n",
       "      <td>175.0</td>\n",
       "      <td>Action,Crime,Drama</td>\n",
       "      <td>7.0</td>\n",
       "      <td>77</td>\n",
       "      <td>nm0712540</td>\n",
       "      <td>Harnam Singh Rawail</td>\n",
       "      <td>1921.0</td>\n",
       "      <td>2004.0</td>\n",
       "      <td>director,writer,producer</td>\n",
       "    </tr>\n",
       "    <tr>\n",
       "      <th>1</th>\n",
       "      <td>tt0063540</td>\n",
       "      <td>Sunghursh</td>\n",
       "      <td>Sunghursh</td>\n",
       "      <td>2013</td>\n",
       "      <td>175.0</td>\n",
       "      <td>Action,Crime,Drama</td>\n",
       "      <td>7.0</td>\n",
       "      <td>77</td>\n",
       "      <td>nm0712540</td>\n",
       "      <td>Harnam Singh Rawail</td>\n",
       "      <td>1921.0</td>\n",
       "      <td>2004.0</td>\n",
       "      <td>director,writer,producer</td>\n",
       "    </tr>\n",
       "    <tr>\n",
       "      <th>2</th>\n",
       "      <td>tt0063540</td>\n",
       "      <td>Sunghursh</td>\n",
       "      <td>Sunghursh</td>\n",
       "      <td>2013</td>\n",
       "      <td>175.0</td>\n",
       "      <td>Action,Crime,Drama</td>\n",
       "      <td>7.0</td>\n",
       "      <td>77</td>\n",
       "      <td>nm0712540</td>\n",
       "      <td>Harnam Singh Rawail</td>\n",
       "      <td>1921.0</td>\n",
       "      <td>2004.0</td>\n",
       "      <td>director,writer,producer</td>\n",
       "    </tr>\n",
       "    <tr>\n",
       "      <th>3</th>\n",
       "      <td>tt0063540</td>\n",
       "      <td>Sunghursh</td>\n",
       "      <td>Sunghursh</td>\n",
       "      <td>2013</td>\n",
       "      <td>175.0</td>\n",
       "      <td>Action,Crime,Drama</td>\n",
       "      <td>7.0</td>\n",
       "      <td>77</td>\n",
       "      <td>nm0712540</td>\n",
       "      <td>Harnam Singh Rawail</td>\n",
       "      <td>1921.0</td>\n",
       "      <td>2004.0</td>\n",
       "      <td>director,writer,producer</td>\n",
       "    </tr>\n",
       "    <tr>\n",
       "      <th>4</th>\n",
       "      <td>tt0066787</td>\n",
       "      <td>One Day Before the Rainy Season</td>\n",
       "      <td>Ashad Ka Ek Din</td>\n",
       "      <td>2019</td>\n",
       "      <td>114.0</td>\n",
       "      <td>Biography,Drama</td>\n",
       "      <td>7.2</td>\n",
       "      <td>43</td>\n",
       "      <td>nm0002411</td>\n",
       "      <td>Mani Kaul</td>\n",
       "      <td>1944.0</td>\n",
       "      <td>2011.0</td>\n",
       "      <td>director,writer,actor</td>\n",
       "    </tr>\n",
       "    <tr>\n",
       "      <th>...</th>\n",
       "      <td>...</td>\n",
       "      <td>...</td>\n",
       "      <td>...</td>\n",
       "      <td>...</td>\n",
       "      <td>...</td>\n",
       "      <td>...</td>\n",
       "      <td>...</td>\n",
       "      <td>...</td>\n",
       "      <td>...</td>\n",
       "      <td>...</td>\n",
       "      <td>...</td>\n",
       "      <td>...</td>\n",
       "      <td>...</td>\n",
       "    </tr>\n",
       "    <tr>\n",
       "      <th>181382</th>\n",
       "      <td>tt9914642</td>\n",
       "      <td>Albatross</td>\n",
       "      <td>Albatross</td>\n",
       "      <td>2017</td>\n",
       "      <td>NaN</td>\n",
       "      <td>Documentary</td>\n",
       "      <td>8.5</td>\n",
       "      <td>8</td>\n",
       "      <td>nm5300859</td>\n",
       "      <td>Chris Jordan</td>\n",
       "      <td>NaN</td>\n",
       "      <td>NaN</td>\n",
       "      <td>director,writer,editor</td>\n",
       "    </tr>\n",
       "    <tr>\n",
       "      <th>181383</th>\n",
       "      <td>tt9914642</td>\n",
       "      <td>Albatross</td>\n",
       "      <td>Albatross</td>\n",
       "      <td>2017</td>\n",
       "      <td>NaN</td>\n",
       "      <td>Documentary</td>\n",
       "      <td>8.5</td>\n",
       "      <td>8</td>\n",
       "      <td>nm5300859</td>\n",
       "      <td>Chris Jordan</td>\n",
       "      <td>NaN</td>\n",
       "      <td>NaN</td>\n",
       "      <td>director,writer,editor</td>\n",
       "    </tr>\n",
       "    <tr>\n",
       "      <th>181384</th>\n",
       "      <td>tt9914942</td>\n",
       "      <td>La vida sense la Sara Amat</td>\n",
       "      <td>La vida sense la Sara Amat</td>\n",
       "      <td>2019</td>\n",
       "      <td>NaN</td>\n",
       "      <td>None</td>\n",
       "      <td>6.6</td>\n",
       "      <td>5</td>\n",
       "      <td>nm1716653</td>\n",
       "      <td>Laura Jou</td>\n",
       "      <td>NaN</td>\n",
       "      <td>NaN</td>\n",
       "      <td>miscellaneous,actress,director</td>\n",
       "    </tr>\n",
       "    <tr>\n",
       "      <th>181385</th>\n",
       "      <td>tt9914942</td>\n",
       "      <td>La vida sense la Sara Amat</td>\n",
       "      <td>La vida sense la Sara Amat</td>\n",
       "      <td>2019</td>\n",
       "      <td>NaN</td>\n",
       "      <td>None</td>\n",
       "      <td>6.6</td>\n",
       "      <td>5</td>\n",
       "      <td>nm1716653</td>\n",
       "      <td>Laura Jou</td>\n",
       "      <td>NaN</td>\n",
       "      <td>NaN</td>\n",
       "      <td>miscellaneous,actress,director</td>\n",
       "    </tr>\n",
       "    <tr>\n",
       "      <th>181386</th>\n",
       "      <td>tt9916160</td>\n",
       "      <td>Drømmeland</td>\n",
       "      <td>Drømmeland</td>\n",
       "      <td>2019</td>\n",
       "      <td>72.0</td>\n",
       "      <td>Documentary</td>\n",
       "      <td>6.5</td>\n",
       "      <td>11</td>\n",
       "      <td>nm5684093</td>\n",
       "      <td>Joost van der Wiel</td>\n",
       "      <td>NaN</td>\n",
       "      <td>NaN</td>\n",
       "      <td>director,cinematographer,writer</td>\n",
       "    </tr>\n",
       "  </tbody>\n",
       "</table>\n",
       "<p>181387 rows × 13 columns</p>\n",
       "</div>"
      ],
      "text/plain": [
       "         movie_id                    primary_title  \\\n",
       "0       tt0063540                        Sunghursh   \n",
       "1       tt0063540                        Sunghursh   \n",
       "2       tt0063540                        Sunghursh   \n",
       "3       tt0063540                        Sunghursh   \n",
       "4       tt0066787  One Day Before the Rainy Season   \n",
       "...           ...                              ...   \n",
       "181382  tt9914642                        Albatross   \n",
       "181383  tt9914642                        Albatross   \n",
       "181384  tt9914942       La vida sense la Sara Amat   \n",
       "181385  tt9914942       La vida sense la Sara Amat   \n",
       "181386  tt9916160                       Drømmeland   \n",
       "\n",
       "                    original_title  start_year  runtime_minutes  \\\n",
       "0                        Sunghursh        2013            175.0   \n",
       "1                        Sunghursh        2013            175.0   \n",
       "2                        Sunghursh        2013            175.0   \n",
       "3                        Sunghursh        2013            175.0   \n",
       "4                  Ashad Ka Ek Din        2019            114.0   \n",
       "...                            ...         ...              ...   \n",
       "181382                   Albatross        2017              NaN   \n",
       "181383                   Albatross        2017              NaN   \n",
       "181384  La vida sense la Sara Amat        2019              NaN   \n",
       "181385  La vida sense la Sara Amat        2019              NaN   \n",
       "181386                  Drømmeland        2019             72.0   \n",
       "\n",
       "                    genres  averagerating  numvotes  person_id  \\\n",
       "0       Action,Crime,Drama            7.0        77  nm0712540   \n",
       "1       Action,Crime,Drama            7.0        77  nm0712540   \n",
       "2       Action,Crime,Drama            7.0        77  nm0712540   \n",
       "3       Action,Crime,Drama            7.0        77  nm0712540   \n",
       "4          Biography,Drama            7.2        43  nm0002411   \n",
       "...                    ...            ...       ...        ...   \n",
       "181382         Documentary            8.5         8  nm5300859   \n",
       "181383         Documentary            8.5         8  nm5300859   \n",
       "181384                None            6.6         5  nm1716653   \n",
       "181385                None            6.6         5  nm1716653   \n",
       "181386         Documentary            6.5        11  nm5684093   \n",
       "\n",
       "               primary_name  birth_year  death_year  \\\n",
       "0       Harnam Singh Rawail      1921.0      2004.0   \n",
       "1       Harnam Singh Rawail      1921.0      2004.0   \n",
       "2       Harnam Singh Rawail      1921.0      2004.0   \n",
       "3       Harnam Singh Rawail      1921.0      2004.0   \n",
       "4                 Mani Kaul      1944.0      2011.0   \n",
       "...                     ...         ...         ...   \n",
       "181382         Chris Jordan         NaN         NaN   \n",
       "181383         Chris Jordan         NaN         NaN   \n",
       "181384            Laura Jou         NaN         NaN   \n",
       "181385            Laura Jou         NaN         NaN   \n",
       "181386   Joost van der Wiel         NaN         NaN   \n",
       "\n",
       "                     primary_profession  \n",
       "0              director,writer,producer  \n",
       "1              director,writer,producer  \n",
       "2              director,writer,producer  \n",
       "3              director,writer,producer  \n",
       "4                 director,writer,actor  \n",
       "...                                 ...  \n",
       "181382           director,writer,editor  \n",
       "181383           director,writer,editor  \n",
       "181384   miscellaneous,actress,director  \n",
       "181385   miscellaneous,actress,director  \n",
       "181386  director,cinematographer,writer  \n",
       "\n",
       "[181387 rows x 13 columns]"
      ]
     },
     "execution_count": 17,
     "metadata": {},
     "output_type": "execute_result"
    }
   ],
   "source": [
    "imdb"
   ]
  },
  {
   "cell_type": "code",
   "execution_count": 18,
   "metadata": {},
   "outputs": [
    {
     "name": "stdout",
     "output_type": "stream",
     "text": [
      "<class 'pandas.core.frame.DataFrame'>\n",
      "RangeIndex: 181387 entries, 0 to 181386\n",
      "Data columns (total 13 columns):\n",
      " #   Column              Non-Null Count   Dtype  \n",
      "---  ------              --------------   -----  \n",
      " 0   movie_id            181387 non-null  object \n",
      " 1   primary_title       181387 non-null  object \n",
      " 2   original_title      181387 non-null  object \n",
      " 3   start_year          181387 non-null  int64  \n",
      " 4   runtime_minutes     163584 non-null  float64\n",
      " 5   genres              180047 non-null  object \n",
      " 6   averagerating       181387 non-null  float64\n",
      " 7   numvotes            181387 non-null  int64  \n",
      " 8   person_id           181387 non-null  object \n",
      " 9   primary_name        181387 non-null  object \n",
      " 10  birth_year          54805 non-null   float64\n",
      " 11  death_year          1342 non-null    float64\n",
      " 12  primary_profession  181262 non-null  object \n",
      "dtypes: float64(4), int64(2), object(7)\n",
      "memory usage: 18.0+ MB\n"
     ]
    }
   ],
   "source": [
    "#Summary of the DataFrame\n",
    "imdb.info()"
   ]
  },
  {
   "cell_type": "markdown",
   "metadata": {},
   "source": [
    "### Data Cleaning"
   ]
  },
  {
   "cell_type": "code",
   "execution_count": 19,
   "metadata": {},
   "outputs": [
    {
     "data": {
      "text/plain": [
       "movie_id                   0\n",
       "primary_title              0\n",
       "original_title             0\n",
       "start_year                 0\n",
       "runtime_minutes        17803\n",
       "genres                  1340\n",
       "averagerating              0\n",
       "numvotes                   0\n",
       "person_id                  0\n",
       "primary_name               0\n",
       "birth_year            126582\n",
       "death_year            180045\n",
       "primary_profession       125\n",
       "dtype: int64"
      ]
     },
     "execution_count": 19,
     "metadata": {},
     "output_type": "execute_result"
    }
   ],
   "source": [
    "#Checking for missing values\n",
    "imdb.isna().sum()"
   ]
  },
  {
   "cell_type": "code",
   "execution_count": 20,
   "metadata": {
    "scrolled": true
   },
   "outputs": [],
   "source": [
    "#Dropping columns unnecessary columns\n",
    "columns_to_drop = ['birth_year', 'death_year']\n",
    "imdb_cleaned = imdb.dropna(subset=columns_to_drop)"
   ]
  },
  {
   "cell_type": "code",
   "execution_count": 21,
   "metadata": {},
   "outputs": [],
   "source": [
    "#Filling missing values with a placeholder ('NaN') for 'genres'  & 'primary_profession' columns\n",
    "imdb['genres'] = imdb['genres'].fillna('NaN')\n",
    "imdb['primary_profession'] = imdb['primary_profession'].fillna('NaN')\n",
    "\n",
    "#Filling missing values with the median for 'runtime_minutes' column.\n",
    "imdb['runtime_minutes'] = imdb['runtime_minutes'].fillna(imdb['runtime_minutes'].median())\n",
    " \n"
   ]
  },
  {
   "cell_type": "code",
   "execution_count": 22,
   "metadata": {},
   "outputs": [
    {
     "data": {
      "text/html": [
       "<div>\n",
       "<style scoped>\n",
       "    .dataframe tbody tr th:only-of-type {\n",
       "        vertical-align: middle;\n",
       "    }\n",
       "\n",
       "    .dataframe tbody tr th {\n",
       "        vertical-align: top;\n",
       "    }\n",
       "\n",
       "    .dataframe thead th {\n",
       "        text-align: right;\n",
       "    }\n",
       "</style>\n",
       "<table border=\"1\" class=\"dataframe\">\n",
       "  <thead>\n",
       "    <tr style=\"text-align: right;\">\n",
       "      <th></th>\n",
       "      <th>movie_id</th>\n",
       "      <th>runtime_minutes</th>\n",
       "      <th>genres</th>\n",
       "      <th>primary_name</th>\n",
       "      <th>primary_profession</th>\n",
       "      <th>averagerating</th>\n",
       "      <th>numvotes</th>\n",
       "    </tr>\n",
       "  </thead>\n",
       "  <tbody>\n",
       "    <tr>\n",
       "      <th>0</th>\n",
       "      <td>tt0063540</td>\n",
       "      <td>175.0</td>\n",
       "      <td>Action,Crime,Drama</td>\n",
       "      <td>Harnam Singh Rawail</td>\n",
       "      <td>director,writer,producer</td>\n",
       "      <td>7.0</td>\n",
       "      <td>77</td>\n",
       "    </tr>\n",
       "    <tr>\n",
       "      <th>1</th>\n",
       "      <td>tt0063540</td>\n",
       "      <td>175.0</td>\n",
       "      <td>Action,Crime,Drama</td>\n",
       "      <td>Harnam Singh Rawail</td>\n",
       "      <td>director,writer,producer</td>\n",
       "      <td>7.0</td>\n",
       "      <td>77</td>\n",
       "    </tr>\n",
       "    <tr>\n",
       "      <th>2</th>\n",
       "      <td>tt0063540</td>\n",
       "      <td>175.0</td>\n",
       "      <td>Action,Crime,Drama</td>\n",
       "      <td>Harnam Singh Rawail</td>\n",
       "      <td>director,writer,producer</td>\n",
       "      <td>7.0</td>\n",
       "      <td>77</td>\n",
       "    </tr>\n",
       "    <tr>\n",
       "      <th>3</th>\n",
       "      <td>tt0063540</td>\n",
       "      <td>175.0</td>\n",
       "      <td>Action,Crime,Drama</td>\n",
       "      <td>Harnam Singh Rawail</td>\n",
       "      <td>director,writer,producer</td>\n",
       "      <td>7.0</td>\n",
       "      <td>77</td>\n",
       "    </tr>\n",
       "    <tr>\n",
       "      <th>4</th>\n",
       "      <td>tt0066787</td>\n",
       "      <td>114.0</td>\n",
       "      <td>Biography,Drama</td>\n",
       "      <td>Mani Kaul</td>\n",
       "      <td>director,writer,actor</td>\n",
       "      <td>7.2</td>\n",
       "      <td>43</td>\n",
       "    </tr>\n",
       "    <tr>\n",
       "      <th>...</th>\n",
       "      <td>...</td>\n",
       "      <td>...</td>\n",
       "      <td>...</td>\n",
       "      <td>...</td>\n",
       "      <td>...</td>\n",
       "      <td>...</td>\n",
       "      <td>...</td>\n",
       "    </tr>\n",
       "    <tr>\n",
       "      <th>181382</th>\n",
       "      <td>tt9914642</td>\n",
       "      <td>94.0</td>\n",
       "      <td>Documentary</td>\n",
       "      <td>Chris Jordan</td>\n",
       "      <td>director,writer,editor</td>\n",
       "      <td>8.5</td>\n",
       "      <td>8</td>\n",
       "    </tr>\n",
       "    <tr>\n",
       "      <th>181383</th>\n",
       "      <td>tt9914642</td>\n",
       "      <td>94.0</td>\n",
       "      <td>Documentary</td>\n",
       "      <td>Chris Jordan</td>\n",
       "      <td>director,writer,editor</td>\n",
       "      <td>8.5</td>\n",
       "      <td>8</td>\n",
       "    </tr>\n",
       "    <tr>\n",
       "      <th>181384</th>\n",
       "      <td>tt9914942</td>\n",
       "      <td>94.0</td>\n",
       "      <td>NaN</td>\n",
       "      <td>Laura Jou</td>\n",
       "      <td>miscellaneous,actress,director</td>\n",
       "      <td>6.6</td>\n",
       "      <td>5</td>\n",
       "    </tr>\n",
       "    <tr>\n",
       "      <th>181385</th>\n",
       "      <td>tt9914942</td>\n",
       "      <td>94.0</td>\n",
       "      <td>NaN</td>\n",
       "      <td>Laura Jou</td>\n",
       "      <td>miscellaneous,actress,director</td>\n",
       "      <td>6.6</td>\n",
       "      <td>5</td>\n",
       "    </tr>\n",
       "    <tr>\n",
       "      <th>181386</th>\n",
       "      <td>tt9916160</td>\n",
       "      <td>72.0</td>\n",
       "      <td>Documentary</td>\n",
       "      <td>Joost van der Wiel</td>\n",
       "      <td>director,cinematographer,writer</td>\n",
       "      <td>6.5</td>\n",
       "      <td>11</td>\n",
       "    </tr>\n",
       "  </tbody>\n",
       "</table>\n",
       "<p>181387 rows × 7 columns</p>\n",
       "</div>"
      ],
      "text/plain": [
       "         movie_id  runtime_minutes              genres         primary_name  \\\n",
       "0       tt0063540            175.0  Action,Crime,Drama  Harnam Singh Rawail   \n",
       "1       tt0063540            175.0  Action,Crime,Drama  Harnam Singh Rawail   \n",
       "2       tt0063540            175.0  Action,Crime,Drama  Harnam Singh Rawail   \n",
       "3       tt0063540            175.0  Action,Crime,Drama  Harnam Singh Rawail   \n",
       "4       tt0066787            114.0     Biography,Drama            Mani Kaul   \n",
       "...           ...              ...                 ...                  ...   \n",
       "181382  tt9914642             94.0         Documentary         Chris Jordan   \n",
       "181383  tt9914642             94.0         Documentary         Chris Jordan   \n",
       "181384  tt9914942             94.0                 NaN            Laura Jou   \n",
       "181385  tt9914942             94.0                 NaN            Laura Jou   \n",
       "181386  tt9916160             72.0         Documentary   Joost van der Wiel   \n",
       "\n",
       "                     primary_profession  averagerating  numvotes  \n",
       "0              director,writer,producer            7.0        77  \n",
       "1              director,writer,producer            7.0        77  \n",
       "2              director,writer,producer            7.0        77  \n",
       "3              director,writer,producer            7.0        77  \n",
       "4                 director,writer,actor            7.2        43  \n",
       "...                                 ...            ...       ...  \n",
       "181382           director,writer,editor            8.5         8  \n",
       "181383           director,writer,editor            8.5         8  \n",
       "181384   miscellaneous,actress,director            6.6         5  \n",
       "181385   miscellaneous,actress,director            6.6         5  \n",
       "181386  director,cinematographer,writer            6.5        11  \n",
       "\n",
       "[181387 rows x 7 columns]"
      ]
     },
     "execution_count": 22,
     "metadata": {},
     "output_type": "execute_result"
    }
   ],
   "source": [
    "#Creating a new Dataframe with selected columns\n",
    "movie_df = imdb[['movie_id','runtime_minutes', 'genres','primary_name','primary_profession','averagerating','numvotes']]\n",
    "movie_df "
   ]
  },
  {
   "cell_type": "code",
   "execution_count": 23,
   "metadata": {},
   "outputs": [
    {
     "name": "stdout",
     "output_type": "stream",
     "text": [
      "<class 'pandas.core.frame.DataFrame'>\n",
      "RangeIndex: 181387 entries, 0 to 181386\n",
      "Data columns (total 7 columns):\n",
      " #   Column              Non-Null Count   Dtype  \n",
      "---  ------              --------------   -----  \n",
      " 0   movie_id            181387 non-null  object \n",
      " 1   runtime_minutes     181387 non-null  float64\n",
      " 2   genres              181387 non-null  object \n",
      " 3   primary_name        181387 non-null  object \n",
      " 4   primary_profession  181387 non-null  object \n",
      " 5   averagerating       181387 non-null  float64\n",
      " 6   numvotes            181387 non-null  int64  \n",
      "dtypes: float64(2), int64(1), object(4)\n",
      "memory usage: 9.7+ MB\n"
     ]
    }
   ],
   "source": [
    "#Summary of the DataFrame.\n",
    "movie_df.info()"
   ]
  },
  {
   "cell_type": "code",
   "execution_count": 24,
   "metadata": {},
   "outputs": [
    {
     "name": "stderr",
     "output_type": "stream",
     "text": [
      "/var/folders/pr/j40mx__d147dr4btk2kxr3j80000gp/T/ipykernel_7996/741415197.py:2: SettingWithCopyWarning: \n",
      "A value is trying to be set on a copy of a slice from a DataFrame.\n",
      "Try using .loc[row_indexer,col_indexer] = value instead\n",
      "\n",
      "See the caveats in the documentation: https://pandas.pydata.org/pandas-docs/stable/user_guide/indexing.html#returning-a-view-versus-a-copy\n",
      "  movie_df['genres'] = movie_df['genres'].astype(str)\n"
     ]
    }
   ],
   "source": [
    "#Converting 'genres' to string\n",
    "movie_df['genres'] = movie_df['genres'].astype(str)"
   ]
  },
  {
   "cell_type": "code",
   "execution_count": 25,
   "metadata": {},
   "outputs": [
    {
     "data": {
      "text/plain": [
       "genres\n",
       "Drama                         25002\n",
       "Documentary                   18077\n",
       "Horror                        13006\n",
       "Comedy                        12723\n",
       "Comedy,Drama                   5903\n",
       "                              ...  \n",
       "Action,Sport,Thriller             1\n",
       "Action,Animation,History          1\n",
       "Comedy,Documentary,Fantasy        1\n",
       "Animation,Family,History          1\n",
       "Documentary,Family,Sci-Fi         1\n",
       "Name: count, Length: 922, dtype: int64"
      ]
     },
     "execution_count": 25,
     "metadata": {},
     "output_type": "execute_result"
    }
   ],
   "source": [
    "#Inspecting the number of each type of genre.\n",
    "movie_df['genres'].value_counts()"
   ]
  },
  {
   "cell_type": "code",
   "execution_count": 26,
   "metadata": {},
   "outputs": [
    {
     "name": "stderr",
     "output_type": "stream",
     "text": [
      "/var/folders/pr/j40mx__d147dr4btk2kxr3j80000gp/T/ipykernel_7996/4253038581.py:2: SettingWithCopyWarning: \n",
      "A value is trying to be set on a copy of a slice from a DataFrame.\n",
      "Try using .loc[row_indexer,col_indexer] = value instead\n",
      "\n",
      "See the caveats in the documentation: https://pandas.pydata.org/pandas-docs/stable/user_guide/indexing.html#returning-a-view-versus-a-copy\n",
      "  movie_df['genres'] = movie_df['genres'].str.split(',')\n"
     ]
    }
   ],
   "source": [
    "#Splitting records having commas\n",
    "movie_df['genres'] = movie_df['genres'].str.split(',')\n",
    "#Seperating into rows\n",
    "movie_df = movie_df.explode('genres')\n",
    "\n"
   ]
  },
  {
   "cell_type": "markdown",
   "metadata": {},
   "source": [
    "## Data Analysis"
   ]
  },
  {
   "cell_type": "markdown",
   "metadata": {},
   "source": [
    "### 1. Analysis of popularity of each genre based on number of votes"
   ]
  },
  {
   "cell_type": "code",
   "execution_count": 27,
   "metadata": {},
   "outputs": [
    {
     "data": {
      "text/html": [
       "<div>\n",
       "<style scoped>\n",
       "    .dataframe tbody tr th:only-of-type {\n",
       "        vertical-align: middle;\n",
       "    }\n",
       "\n",
       "    .dataframe tbody tr th {\n",
       "        vertical-align: top;\n",
       "    }\n",
       "\n",
       "    .dataframe thead th {\n",
       "        text-align: right;\n",
       "    }\n",
       "</style>\n",
       "<table border=\"1\" class=\"dataframe\">\n",
       "  <thead>\n",
       "    <tr style=\"text-align: right;\">\n",
       "      <th></th>\n",
       "      <th>genres</th>\n",
       "      <th>numvotes</th>\n",
       "    </tr>\n",
       "  </thead>\n",
       "  <tbody>\n",
       "    <tr>\n",
       "      <th>2</th>\n",
       "      <td>Adventure</td>\n",
       "      <td>39509.669574</td>\n",
       "    </tr>\n",
       "    <tr>\n",
       "      <th>0</th>\n",
       "      <td>Action</td>\n",
       "      <td>20300.501207</td>\n",
       "    </tr>\n",
       "    <tr>\n",
       "      <th>21</th>\n",
       "      <td>Sci-Fi</td>\n",
       "      <td>17444.270719</td>\n",
       "    </tr>\n",
       "    <tr>\n",
       "      <th>10</th>\n",
       "      <td>Fantasy</td>\n",
       "      <td>16580.818009</td>\n",
       "    </tr>\n",
       "    <tr>\n",
       "      <th>3</th>\n",
       "      <td>Animation</td>\n",
       "      <td>14812.774214</td>\n",
       "    </tr>\n",
       "    <tr>\n",
       "      <th>26</th>\n",
       "      <td>Western</td>\n",
       "      <td>10739.542910</td>\n",
       "    </tr>\n",
       "    <tr>\n",
       "      <th>6</th>\n",
       "      <td>Crime</td>\n",
       "      <td>7300.237541</td>\n",
       "    </tr>\n",
       "    <tr>\n",
       "      <th>24</th>\n",
       "      <td>Thriller</td>\n",
       "      <td>7176.028239</td>\n",
       "    </tr>\n",
       "    <tr>\n",
       "      <th>16</th>\n",
       "      <td>Mystery</td>\n",
       "      <td>7134.004799</td>\n",
       "    </tr>\n",
       "    <tr>\n",
       "      <th>4</th>\n",
       "      <td>Biography</td>\n",
       "      <td>6915.969966</td>\n",
       "    </tr>\n",
       "    <tr>\n",
       "      <th>5</th>\n",
       "      <td>Comedy</td>\n",
       "      <td>5867.176094</td>\n",
       "    </tr>\n",
       "    <tr>\n",
       "      <th>23</th>\n",
       "      <td>Sport</td>\n",
       "      <td>4373.603797</td>\n",
       "    </tr>\n",
       "    <tr>\n",
       "      <th>20</th>\n",
       "      <td>Romance</td>\n",
       "      <td>4131.521739</td>\n",
       "    </tr>\n",
       "    <tr>\n",
       "      <th>9</th>\n",
       "      <td>Family</td>\n",
       "      <td>3858.710082</td>\n",
       "    </tr>\n",
       "    <tr>\n",
       "      <th>8</th>\n",
       "      <td>Drama</td>\n",
       "      <td>3740.091275</td>\n",
       "    </tr>\n",
       "  </tbody>\n",
       "</table>\n",
       "</div>"
      ],
      "text/plain": [
       "       genres      numvotes\n",
       "2   Adventure  39509.669574\n",
       "0      Action  20300.501207\n",
       "21     Sci-Fi  17444.270719\n",
       "10    Fantasy  16580.818009\n",
       "3   Animation  14812.774214\n",
       "26    Western  10739.542910\n",
       "6       Crime   7300.237541\n",
       "24   Thriller   7176.028239\n",
       "16    Mystery   7134.004799\n",
       "4   Biography   6915.969966\n",
       "5      Comedy   5867.176094\n",
       "23      Sport   4373.603797\n",
       "20    Romance   4131.521739\n",
       "9      Family   3858.710082\n",
       "8       Drama   3740.091275"
      ]
     },
     "execution_count": 27,
     "metadata": {},
     "output_type": "execute_result"
    }
   ],
   "source": [
    "genre_avgvotes = movie_df.groupby('genres')['numvotes'].mean().reset_index()\n",
    "\n",
    "genre_avgvotes = genre_avgvotes.sort_values(by='numvotes', ascending=False).head(15)\n",
    "\n",
    "genre_avgvotes"
   ]
  },
  {
   "cell_type": "code",
   "execution_count": 28,
   "metadata": {
    "scrolled": true
   },
   "outputs": [
    {
     "data": {
      "image/png": "[encoded data removed]",
      "text/plain": [
       "<Figure size 1200x800 with 1 Axes>"
      ]
     },
     "metadata": {},
     "output_type": "display_data"
    }
   ],
   "source": [
    "plt.figure(figsize=(12, 8))\n",
    "sns.barplot(x='numvotes', y='genres', data=genre_avgvotes)\n",
    "plt.title('Average Number of Votes by Genre')\n",
    "plt.xlabel('Average Number of Votes')\n",
    "plt.ylabel('Genres')\n",
    "plt.show()"
   ]
  },
  {
   "cell_type": "markdown",
   "metadata": {},
   "source": [
    "### 2. Analysis of runtime in minutes of each genre"
   ]
  },
  {
   "cell_type": "code",
   "execution_count": 29,
   "metadata": {},
   "outputs": [
    {
     "data": {
      "text/html": [
       "<div>\n",
       "<style scoped>\n",
       "    .dataframe tbody tr th:only-of-type {\n",
       "        vertical-align: middle;\n",
       "    }\n",
       "\n",
       "    .dataframe tbody tr th {\n",
       "        vertical-align: top;\n",
       "    }\n",
       "\n",
       "    .dataframe thead th {\n",
       "        text-align: right;\n",
       "    }\n",
       "</style>\n",
       "<table border=\"1\" class=\"dataframe\">\n",
       "  <thead>\n",
       "    <tr style=\"text-align: right;\">\n",
       "      <th></th>\n",
       "      <th>genres</th>\n",
       "      <th>runtime_minutes</th>\n",
       "    </tr>\n",
       "  </thead>\n",
       "  <tbody>\n",
       "    <tr>\n",
       "      <th>11</th>\n",
       "      <td>Game-Show</td>\n",
       "      <td>123.500000</td>\n",
       "    </tr>\n",
       "    <tr>\n",
       "      <th>21</th>\n",
       "      <td>Sci-Fi</td>\n",
       "      <td>112.442857</td>\n",
       "    </tr>\n",
       "    <tr>\n",
       "      <th>0</th>\n",
       "      <td>Action</td>\n",
       "      <td>107.923865</td>\n",
       "    </tr>\n",
       "    <tr>\n",
       "      <th>1</th>\n",
       "      <td>Adult</td>\n",
       "      <td>107.500000</td>\n",
       "    </tr>\n",
       "    <tr>\n",
       "      <th>6</th>\n",
       "      <td>Crime</td>\n",
       "      <td>104.744897</td>\n",
       "    </tr>\n",
       "    <tr>\n",
       "      <th>15</th>\n",
       "      <td>Musical</td>\n",
       "      <td>104.291930</td>\n",
       "    </tr>\n",
       "    <tr>\n",
       "      <th>20</th>\n",
       "      <td>Romance</td>\n",
       "      <td>102.698948</td>\n",
       "    </tr>\n",
       "    <tr>\n",
       "      <th>13</th>\n",
       "      <td>Horror</td>\n",
       "      <td>100.874483</td>\n",
       "    </tr>\n",
       "    <tr>\n",
       "      <th>5</th>\n",
       "      <td>Comedy</td>\n",
       "      <td>100.543271</td>\n",
       "    </tr>\n",
       "    <tr>\n",
       "      <th>8</th>\n",
       "      <td>Drama</td>\n",
       "      <td>98.320361</td>\n",
       "    </tr>\n",
       "  </tbody>\n",
       "</table>\n",
       "</div>"
      ],
      "text/plain": [
       "       genres  runtime_minutes\n",
       "11  Game-Show       123.500000\n",
       "21     Sci-Fi       112.442857\n",
       "0      Action       107.923865\n",
       "1       Adult       107.500000\n",
       "6       Crime       104.744897\n",
       "15    Musical       104.291930\n",
       "20    Romance       102.698948\n",
       "13     Horror       100.874483\n",
       "5      Comedy       100.543271\n",
       "8       Drama        98.320361"
      ]
     },
     "execution_count": 29,
     "metadata": {},
     "output_type": "execute_result"
    }
   ],
   "source": [
    "genre_runtime = movie_df.groupby('genres')['runtime_minutes'].mean().reset_index()\n",
    "genre_runtime = genre_runtime.sort_values(by='runtime_minutes', ascending=False).head(10)\n",
    "genre_runtime"
   ]
  },
  {
   "cell_type": "code",
   "execution_count": 30,
   "metadata": {},
   "outputs": [
    {
     "data": {
      "image/png": "[encoded data removed]",
      "text/plain": [
       "<Figure size 1600x800 with 1 Axes>"
      ]
     },
     "metadata": {},
     "output_type": "display_data"
    }
   ],
   "source": [
    "#Plotting the graph \n",
    "plt.figure(figsize=(16,8))\n",
    "sns.barplot(x='runtime_minutes', y='genres', data=genre_runtime)\n",
    "plt.title('Top 20 Genres by Average Runtime')\n",
    "plt.xlabel('Average Runtime (Minutes)')\n",
    "plt.ylabel('Genre')\n",
    "\n",
    "plt.show()"
   ]
  },
  {
   "cell_type": "markdown",
   "metadata": {},
   "source": [
    "## Interepretation and Recommendation"
   ]
  },
  {
   "cell_type": "markdown",
   "metadata": {},
   "source": [
    "1. Months between April and August recorded the highest ROI.It is recommended that the studio should release films beteween this months to achieve high Return On Investment."
   ]
  },
  {
   "cell_type": "markdown",
   "metadata": {},
   "source": [
    "2. According to the distribution, the genres which had the most number of votes were :\n",
    "\n",
    "   Adventure,Action,Sci Fi and Fantasy.\n",
    "   \n",
    "The company should invest in producing movies with popular genres for good perfomance at the box office.   "
   ]
  },
  {
   "cell_type": "markdown",
   "metadata": {},
   "source": [
    "3.The company should consider producing movies with short runtime as they are cheaper for production compared to longer running time which are expensive and take more time to edit."
   ]
  }
 ],
 "metadata": {
  "kernelspec": {
   "display_name": "Python (learn-env)",
   "language": "python",
   "name": "learn-env"
  },
  "language_info": {
   "codemirror_mode": {
    "name": "ipython",
    "version": 3
   },
   "file_extension": ".py",
   "mimetype": "text/x-python",
   "name": "python",
   "nbconvert_exporter": "python",
   "pygments_lexer": "ipython3",
   "version": "3.11.7"
  }
 },
 "nbformat": 4,
 "nbformat_minor": 4
}
